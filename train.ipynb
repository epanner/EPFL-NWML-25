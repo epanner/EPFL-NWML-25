{
 "cells": [
  {
   "cell_type": "code",
   "execution_count": null,
   "id": "18999654",
   "metadata": {
    "vscode": {
     "languageId": "plaintext"
    }
   },
   "outputs": [],
   "source": [
    "\n",
    "! pip install -q kaggle\n",
    "\n",
    "from google.colab import files\n",
    "\n",
    "files.upload() # Upload your own API-Key .json\n",
    "! mkdir ~/.kaggle\n",
    "\n",
    "! cp kaggle.json ~/.kaggle/\n",
    "! chmod 600 ~/.kaggle/kaggle.json\n",
    "! kaggle datasets list\n",
    "\n",
    "! kaggle competitions download -c epfl-network-machine-learning-2025\n",
    "\n",
    "! mkdir networkML\n",
    "\n",
    "! unzip -q epfl-network-machine-learning-2025.zip -d networkML"
   ]
  },
  {
   "cell_type": "code",
   "execution_count": null,
   "id": "b58b8624",
   "metadata": {
    "vscode": {
     "languageId": "plaintext"
    }
   },
   "outputs": [],
   "source": [
    "! git clone --single-branch --branch introduction https://github.com/epanner/EPFL-NWML-25.git"
   ]
  },
  {
   "cell_type": "code",
   "execution_count": null,
   "id": "d478dbf8",
   "metadata": {
    "vscode": {
     "languageId": "plaintext"
    }
   },
   "outputs": [],
   "source": [
    "! pip install -r EPFL-NWML-25/requirements.txt\n",
    "! wandb login"
   ]
  },
  {
   "cell_type": "code",
   "execution_count": null,
   "id": "6c5594cd",
   "metadata": {
    "vscode": {
     "languageId": "plaintext"
    }
   },
   "outputs": [],
   "source": [
    "! python EPFL-NWML-25/main.py dataset.data_path=/content/networkML train.prefetch_dataset=True"
   ]
  },
  {
   "cell_type": "code",
   "execution_count": null,
   "id": "c0a5a702",
   "metadata": {
    "vscode": {
     "languageId": "plaintext"
    }
   },
   "outputs": [],
   "source": [
    "! cd EPFL-NWML-25 && git pull"
   ]
  }
 ],
 "metadata": {
  "language_info": {
   "name": "python"
  }
 },
 "nbformat": 4,
 "nbformat_minor": 5
}
