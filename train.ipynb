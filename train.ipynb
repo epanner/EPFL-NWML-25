{
 "cells": [
  {
   "cell_type": "code",
   "execution_count": null,
   "id": "18999654",
   "metadata": {
    "vscode": {
     "languageId": "plaintext"
    }
   },
   "outputs": [],
   "source": [
    "! git clone https://github.com/epanner/EPFL-NWML-25.git\n",
    "\n",
    "! pip install -q kaggle\n",
    "\n",
    "from google.colab import files\n",
    "\n",
    "files.upload() # Upload your own API-Key .json\n",
    "! mkdir ~/.kaggle\n",
    "\n",
    "! cp kaggle.json ~/.kaggle/\n",
    " chmod 600 ~/.kaggle/kaggle.json\n",
    "! kaggle datasets list\n",
    "\n",
    "! kaggle competitions download -c epfl-network-machine-learning-2025\n",
    "\n",
    "! mkdir networkML\n",
    "\n",
    "! unzip -q epfl-network-machine-learning-2025.zip -d networkML\n",
    "\n",
    "! pip install -r requirements.txt\n",
    "\n",
    "! wandb login\n",
    "\n",
    "! python main.py dataset.data_path=/content/networkML"
   ]
  }
 ],
 "metadata": {
  "language_info": {
   "name": "python"
  }
 },
 "nbformat": 4,
 "nbformat_minor": 5
}
